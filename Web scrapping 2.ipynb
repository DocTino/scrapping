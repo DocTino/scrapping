{
 "cells": [
  {
   "cell_type": "code",
   "execution_count": 2,
   "id": "c822bba7",
   "metadata": {},
   "outputs": [],
   "source": [
    "#this url contains the data you need to scrape\n",
    "url = \"https://cf-courses-data.s3.us.cloud-object-storage.appdomain.cloud/IBM-DA0321EN-SkillsNetwork/labs/datasets/Programming_Languages.html\""
   ]
  },
  {
   "cell_type": "code",
   "execution_count": 3,
   "id": "ef70b92b",
   "metadata": {},
   "outputs": [],
   "source": [
    "from bs4 import BeautifulSoup \n",
    "import requests\n",
    "import pandas as pd"
   ]
  },
  {
   "cell_type": "code",
   "execution_count": 4,
   "id": "2de96383",
   "metadata": {},
   "outputs": [],
   "source": [
    "data  = requests.get(url).text"
   ]
  },
  {
   "cell_type": "code",
   "execution_count": 5,
   "id": "de723e19",
   "metadata": {},
   "outputs": [],
   "source": [
    "soup = BeautifulSoup(data,\"html5lib\")"
   ]
  },
  {
   "cell_type": "code",
   "execution_count": 7,
   "id": "487a8f6c",
   "metadata": {},
   "outputs": [
    {
     "name": "stdout",
     "output_type": "stream",
     "text": [
      "Language--->Average Annual Salary\n",
      "Python--->$114,383\n",
      "Java--->$101,013\n",
      "R--->$92,037\n",
      "Javascript--->$110,981\n",
      "Swift--->$130,801\n",
      "C++--->$113,865\n",
      "C#--->$88,726\n",
      "PHP--->$84,727\n",
      "SQL--->$84,793\n",
      "Go--->$94,082\n"
     ]
    },
    {
     "name": "stderr",
     "output_type": "stream",
     "text": [
      "C:\\Users\\dtmbi\\AppData\\Local\\Temp\\ipykernel_26428\\1105783713.py:8: FutureWarning: The frame.append method is deprecated and will be removed from pandas in a future version. Use pandas.concat instead.\n",
      "  table = table.append({\"Language\": language, \"Average Annual Salary\": salary}, ignore_index=True)\n",
      "C:\\Users\\dtmbi\\AppData\\Local\\Temp\\ipykernel_26428\\1105783713.py:8: FutureWarning: The frame.append method is deprecated and will be removed from pandas in a future version. Use pandas.concat instead.\n",
      "  table = table.append({\"Language\": language, \"Average Annual Salary\": salary}, ignore_index=True)\n",
      "C:\\Users\\dtmbi\\AppData\\Local\\Temp\\ipykernel_26428\\1105783713.py:8: FutureWarning: The frame.append method is deprecated and will be removed from pandas in a future version. Use pandas.concat instead.\n",
      "  table = table.append({\"Language\": language, \"Average Annual Salary\": salary}, ignore_index=True)\n",
      "C:\\Users\\dtmbi\\AppData\\Local\\Temp\\ipykernel_26428\\1105783713.py:8: FutureWarning: The frame.append method is deprecated and will be removed from pandas in a future version. Use pandas.concat instead.\n",
      "  table = table.append({\"Language\": language, \"Average Annual Salary\": salary}, ignore_index=True)\n",
      "C:\\Users\\dtmbi\\AppData\\Local\\Temp\\ipykernel_26428\\1105783713.py:8: FutureWarning: The frame.append method is deprecated and will be removed from pandas in a future version. Use pandas.concat instead.\n",
      "  table = table.append({\"Language\": language, \"Average Annual Salary\": salary}, ignore_index=True)\n",
      "C:\\Users\\dtmbi\\AppData\\Local\\Temp\\ipykernel_26428\\1105783713.py:8: FutureWarning: The frame.append method is deprecated and will be removed from pandas in a future version. Use pandas.concat instead.\n",
      "  table = table.append({\"Language\": language, \"Average Annual Salary\": salary}, ignore_index=True)\n",
      "C:\\Users\\dtmbi\\AppData\\Local\\Temp\\ipykernel_26428\\1105783713.py:8: FutureWarning: The frame.append method is deprecated and will be removed from pandas in a future version. Use pandas.concat instead.\n",
      "  table = table.append({\"Language\": language, \"Average Annual Salary\": salary}, ignore_index=True)\n",
      "C:\\Users\\dtmbi\\AppData\\Local\\Temp\\ipykernel_26428\\1105783713.py:8: FutureWarning: The frame.append method is deprecated and will be removed from pandas in a future version. Use pandas.concat instead.\n",
      "  table = table.append({\"Language\": language, \"Average Annual Salary\": salary}, ignore_index=True)\n",
      "C:\\Users\\dtmbi\\AppData\\Local\\Temp\\ipykernel_26428\\1105783713.py:8: FutureWarning: The frame.append method is deprecated and will be removed from pandas in a future version. Use pandas.concat instead.\n",
      "  table = table.append({\"Language\": language, \"Average Annual Salary\": salary}, ignore_index=True)\n",
      "C:\\Users\\dtmbi\\AppData\\Local\\Temp\\ipykernel_26428\\1105783713.py:8: FutureWarning: The frame.append method is deprecated and will be removed from pandas in a future version. Use pandas.concat instead.\n",
      "  table = table.append({\"Language\": language, \"Average Annual Salary\": salary}, ignore_index=True)\n",
      "C:\\Users\\dtmbi\\AppData\\Local\\Temp\\ipykernel_26428\\1105783713.py:8: FutureWarning: The frame.append method is deprecated and will be removed from pandas in a future version. Use pandas.concat instead.\n",
      "  table = table.append({\"Language\": language, \"Average Annual Salary\": salary}, ignore_index=True)\n"
     ]
    }
   ],
   "source": [
    "table = pd.DataFrame(columns=[\"Language\",\"Average Annual Salary\"])\n",
    "\n",
    "for row in soup.find_all('tr'):\n",
    "    cols = row.find_all('td')\n",
    "    language = cols[1].getText() \n",
    "    salary = cols[3].getText() \n",
    "    print(\"{}--->{}\".format(language,salary))\n",
    "    table = table.append({\"Language\": language, \"Average Annual Salary\": salary}, ignore_index=True)\n",
    "    table.head()"
   ]
  },
  {
   "cell_type": "code",
   "execution_count": 8,
   "id": "3a918db6",
   "metadata": {},
   "outputs": [
    {
     "data": {
      "text/html": [
       "<div>\n",
       "<style scoped>\n",
       "    .dataframe tbody tr th:only-of-type {\n",
       "        vertical-align: middle;\n",
       "    }\n",
       "\n",
       "    .dataframe tbody tr th {\n",
       "        vertical-align: top;\n",
       "    }\n",
       "\n",
       "    .dataframe thead th {\n",
       "        text-align: right;\n",
       "    }\n",
       "</style>\n",
       "<table border=\"1\" class=\"dataframe\">\n",
       "  <thead>\n",
       "    <tr style=\"text-align: right;\">\n",
       "      <th></th>\n",
       "      <th>Language</th>\n",
       "      <th>Average Annual Salary</th>\n",
       "    </tr>\n",
       "  </thead>\n",
       "  <tbody>\n",
       "    <tr>\n",
       "      <th>1</th>\n",
       "      <td>Python</td>\n",
       "      <td>$114,383</td>\n",
       "    </tr>\n",
       "    <tr>\n",
       "      <th>2</th>\n",
       "      <td>Java</td>\n",
       "      <td>$101,013</td>\n",
       "    </tr>\n",
       "    <tr>\n",
       "      <th>3</th>\n",
       "      <td>R</td>\n",
       "      <td>$92,037</td>\n",
       "    </tr>\n",
       "    <tr>\n",
       "      <th>4</th>\n",
       "      <td>Javascript</td>\n",
       "      <td>$110,981</td>\n",
       "    </tr>\n",
       "    <tr>\n",
       "      <th>5</th>\n",
       "      <td>Swift</td>\n",
       "      <td>$130,801</td>\n",
       "    </tr>\n",
       "    <tr>\n",
       "      <th>6</th>\n",
       "      <td>C++</td>\n",
       "      <td>$113,865</td>\n",
       "    </tr>\n",
       "    <tr>\n",
       "      <th>7</th>\n",
       "      <td>C#</td>\n",
       "      <td>$88,726</td>\n",
       "    </tr>\n",
       "    <tr>\n",
       "      <th>8</th>\n",
       "      <td>PHP</td>\n",
       "      <td>$84,727</td>\n",
       "    </tr>\n",
       "    <tr>\n",
       "      <th>9</th>\n",
       "      <td>SQL</td>\n",
       "      <td>$84,793</td>\n",
       "    </tr>\n",
       "    <tr>\n",
       "      <th>10</th>\n",
       "      <td>Go</td>\n",
       "      <td>$94,082</td>\n",
       "    </tr>\n",
       "  </tbody>\n",
       "</table>\n",
       "</div>"
      ],
      "text/plain": [
       "      Language Average Annual Salary\n",
       "1       Python              $114,383\n",
       "2         Java              $101,013\n",
       "3            R               $92,037\n",
       "4   Javascript              $110,981\n",
       "5        Swift              $130,801\n",
       "6          C++              $113,865\n",
       "7           C#               $88,726\n",
       "8          PHP               $84,727\n",
       "9          SQL               $84,793\n",
       "10          Go               $94,082"
      ]
     },
     "execution_count": 8,
     "metadata": {},
     "output_type": "execute_result"
    }
   ],
   "source": [
    "df=pd.DataFrame(table,columns=[\"Language\",\"Average Annual Salary\"])\n",
    "df.drop(df.index[0], inplace=True)\n",
    "df.to_csv('popular-languages.csv')\n",
    "df"
   ]
  },
  {
   "cell_type": "code",
   "execution_count": null,
   "id": "ae81fd9c",
   "metadata": {},
   "outputs": [],
   "source": []
  }
 ],
 "metadata": {
  "kernelspec": {
   "display_name": "Python 3 (ipykernel)",
   "language": "python",
   "name": "python3"
  },
  "language_info": {
   "codemirror_mode": {
    "name": "ipython",
    "version": 3
   },
   "file_extension": ".py",
   "mimetype": "text/x-python",
   "name": "python",
   "nbconvert_exporter": "python",
   "pygments_lexer": "ipython3",
   "version": "3.10.9"
  }
 },
 "nbformat": 4,
 "nbformat_minor": 5
}
